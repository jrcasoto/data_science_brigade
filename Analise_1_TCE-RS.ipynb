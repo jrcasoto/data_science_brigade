{
 "cells": [
  {
   "cell_type": "markdown",
   "metadata": {},
   "source": [
    "# Análise Exploratória em Conjunto de Dados do TCE-RS"
   ]
  },
  {
   "cell_type": "markdown",
   "metadata": {},
   "source": [
    "# Análise 1"
   ]
  },
  {
   "cell_type": "markdown",
   "metadata": {},
   "source": [
    "# Business Understanding"
   ]
  },
  {
   "cell_type": "markdown",
   "metadata": {},
   "source": [
    "    - Quais são os principais bens materiais comprados pelos órgãos públicos do Rio Grande do Sul?\n",
    "    - É possível identificar algum padrão nas compras? Seja por época do ano ou por tipo de órgão comprador? \n",
    "    - O que mais é possível descobrir sobre as licitações do estado?\n",
    "    - Manual disponível em: https://portalnovo.tce.rs.gov.br/repo/cex/licitacon/eValidador-licitacon-manual-layout-1.4.pdf"
   ]
  },
  {
   "cell_type": "markdown",
   "metadata": {},
   "source": [
    "## Data Understanding (licitacoes.csv)"
   ]
  },
  {
   "cell_type": "code",
   "execution_count": 1,
   "metadata": {},
   "outputs": [],
   "source": [
    "import os\n",
    "import pandas as pd\n",
    "import numpy as np\n",
    "import matplotlib as mat\n",
    "import matplotlib.pyplot as plt\n",
    "from matplotlib.pyplot import figure\n",
    "from IPython.display import display\n",
    "plt.style.use('ggplot')\n",
    "%matplotlib inline"
   ]
  },
  {
   "cell_type": "code",
   "execution_count": 2,
   "metadata": {},
   "outputs": [],
   "source": [
    "# Gerar output consolidado na pasta raiz como série temporal (2016-2019; reutilizado na Analise_3_TCE-RS)\n",
    "year = [2016, 2017, 2018, 2019]\n",
    "cols = ['NR_LICITACAO', 'ANO_LICITACAO', 'DT_HOMOLOGACAO', 'CD_TIPO_MODALIDADE', 'VL_LICITACAO', 'DS_OBJETO', 'TP_OBJETO', 'NM_ORGAO']\n",
    "consolidated = pd.DataFrame()\n",
    "\n",
    "if not os.path.exists('licitacoes.csv'):\n",
    "    for y in year:\n",
    "        path = r'C:\\Users\\casoto\\Desktop\\TCE-RS\\\\' + str(y) + '\\\\licitacao.csv'\n",
    "        df = pd.read_csv(path, usecols = cols)\n",
    "        consolidated = pd.concat([df, consolidated])\n",
    "    consolidated.to_csv('licitacoes.csv')"
   ]
  },
  {
   "cell_type": "code",
   "execution_count": 3,
   "metadata": {},
   "outputs": [
    {
     "data": {
      "text/plain": [
       "['.ipynb_checkpoints',\n",
       " '2016',\n",
       " '2016.csv.zip',\n",
       " '2017',\n",
       " '2017.csv.zip',\n",
       " '2018',\n",
       " '2018.csv.zip',\n",
       " '2019',\n",
       " '2019.csv.zip',\n",
       " 'Analise_1_TCE-RS.ipynb',\n",
       " 'Analise_2_TCE-RS.ipynb',\n",
       " 'Analise_3_TCE-RS.ipynb',\n",
       " 'Descrição do Teste - Data Scientist_1.pdf',\n",
       " 'itens.csv',\n",
       " 'licitacoes.csv']"
      ]
     },
     "execution_count": 3,
     "metadata": {},
     "output_type": "execute_result"
    }
   ],
   "source": [
    "# Verificando bases disponíveis\n",
    "path = r'C:\\Users\\casoto\\Desktop\\TCE-RS'\n",
    "os.listdir(path)"
   ]
  },
  {
   "cell_type": "code",
   "execution_count": 4,
   "metadata": {},
   "outputs": [
    {
     "data": {
      "text/html": [
       "<div>\n",
       "<style scoped>\n",
       "    .dataframe tbody tr th:only-of-type {\n",
       "        vertical-align: middle;\n",
       "    }\n",
       "\n",
       "    .dataframe tbody tr th {\n",
       "        vertical-align: top;\n",
       "    }\n",
       "\n",
       "    .dataframe thead th {\n",
       "        text-align: right;\n",
       "    }\n",
       "</style>\n",
       "<table border=\"1\" class=\"dataframe\">\n",
       "  <thead>\n",
       "    <tr style=\"text-align: right;\">\n",
       "      <th></th>\n",
       "      <th>NM_ORGAO</th>\n",
       "      <th>NR_LICITACAO</th>\n",
       "      <th>ANO_LICITACAO</th>\n",
       "      <th>CD_TIPO_MODALIDADE</th>\n",
       "      <th>TP_OBJETO</th>\n",
       "      <th>DS_OBJETO</th>\n",
       "      <th>VL_LICITACAO</th>\n",
       "      <th>DT_HOMOLOGACAO</th>\n",
       "    </tr>\n",
       "  </thead>\n",
       "  <tbody>\n",
       "    <tr>\n",
       "      <th>0</th>\n",
       "      <td>PM DE NOVA PALMA</td>\n",
       "      <td>3.0</td>\n",
       "      <td>2019</td>\n",
       "      <td>TMP</td>\n",
       "      <td>CSE</td>\n",
       "      <td>CONTRATAÇÃO GLOBAL DE EMPRESA PARA CONSTRUÇÃO ...</td>\n",
       "      <td>276405.12</td>\n",
       "      <td>2019-10-11</td>\n",
       "    </tr>\n",
       "    <tr>\n",
       "      <th>1</th>\n",
       "      <td>PM DE NOVA PALMA</td>\n",
       "      <td>1.0</td>\n",
       "      <td>2019</td>\n",
       "      <td>TMP</td>\n",
       "      <td>OSE</td>\n",
       "      <td>Reforma da UBS do Distrito da Vila Cruz, pintu...</td>\n",
       "      <td>75396.00</td>\n",
       "      <td>2019-04-29</td>\n",
       "    </tr>\n",
       "    <tr>\n",
       "      <th>2</th>\n",
       "      <td>CIA. ÁGUAS TERMAIS MARCELINO RAMOS - TERMASA</td>\n",
       "      <td>3.0</td>\n",
       "      <td>2019</td>\n",
       "      <td>EST</td>\n",
       "      <td>PER</td>\n",
       "      <td>Constitui objeto da presente Licitação a explo...</td>\n",
       "      <td>105612.48</td>\n",
       "      <td>2019-08-14</td>\n",
       "    </tr>\n",
       "    <tr>\n",
       "      <th>3</th>\n",
       "      <td>PM DE ESPERANÇA DO SUL</td>\n",
       "      <td>34.0</td>\n",
       "      <td>2019</td>\n",
       "      <td>CNV</td>\n",
       "      <td>OUS</td>\n",
       "      <td>Contratação de serviços de arbitragem para atu...</td>\n",
       "      <td>10600.00</td>\n",
       "      <td>2019-05-07</td>\n",
       "    </tr>\n",
       "    <tr>\n",
       "      <th>4</th>\n",
       "      <td>PM DE BOA VISTA DO SUL</td>\n",
       "      <td>3.0</td>\n",
       "      <td>2019</td>\n",
       "      <td>PRP</td>\n",
       "      <td>OUS</td>\n",
       "      <td>Contratação de empresa para prestação de servi...</td>\n",
       "      <td>430770.00</td>\n",
       "      <td>2019-01-28</td>\n",
       "    </tr>\n",
       "  </tbody>\n",
       "</table>\n",
       "</div>"
      ],
      "text/plain": [
       "                                       NM_ORGAO  NR_LICITACAO  ANO_LICITACAO  \\\n",
       "0                              PM DE NOVA PALMA           3.0           2019   \n",
       "1                              PM DE NOVA PALMA           1.0           2019   \n",
       "2  CIA. ÁGUAS TERMAIS MARCELINO RAMOS - TERMASA           3.0           2019   \n",
       "3                        PM DE ESPERANÇA DO SUL          34.0           2019   \n",
       "4                        PM DE BOA VISTA DO SUL           3.0           2019   \n",
       "\n",
       "  CD_TIPO_MODALIDADE TP_OBJETO  \\\n",
       "0                TMP       CSE   \n",
       "1                TMP       OSE   \n",
       "2                EST       PER   \n",
       "3                CNV       OUS   \n",
       "4                PRP       OUS   \n",
       "\n",
       "                                           DS_OBJETO  VL_LICITACAO  \\\n",
       "0  CONTRATAÇÃO GLOBAL DE EMPRESA PARA CONSTRUÇÃO ...     276405.12   \n",
       "1  Reforma da UBS do Distrito da Vila Cruz, pintu...      75396.00   \n",
       "2  Constitui objeto da presente Licitação a explo...     105612.48   \n",
       "3  Contratação de serviços de arbitragem para atu...      10600.00   \n",
       "4  Contratação de empresa para prestação de servi...     430770.00   \n",
       "\n",
       "  DT_HOMOLOGACAO  \n",
       "0     2019-10-11  \n",
       "1     2019-04-29  \n",
       "2     2019-08-14  \n",
       "3     2019-05-07  \n",
       "4     2019-01-28  "
      ]
     },
     "execution_count": 4,
     "metadata": {},
     "output_type": "execute_result"
    }
   ],
   "source": [
    "# Analisando arquivo licitacoes.csv\n",
    "licitacao = pd.read_csv(path + '\\\\licitacoes.csv')\n",
    "pd.options.display.max_columns = None # Mostrar todas as colunas\n",
    "licitacao.drop(columns = 'Unnamed: 0', inplace = True)\n",
    "licitacao.head()"
   ]
  },
  {
   "cell_type": "code",
   "execution_count": 5,
   "metadata": {},
   "outputs": [
    {
     "data": {
      "text/html": [
       "<div>\n",
       "<style scoped>\n",
       "    .dataframe tbody tr th:only-of-type {\n",
       "        vertical-align: middle;\n",
       "    }\n",
       "\n",
       "    .dataframe tbody tr th {\n",
       "        vertical-align: top;\n",
       "    }\n",
       "\n",
       "    .dataframe thead th {\n",
       "        text-align: right;\n",
       "    }\n",
       "</style>\n",
       "<table border=\"1\" class=\"dataframe\">\n",
       "  <thead>\n",
       "    <tr style=\"text-align: right;\">\n",
       "      <th></th>\n",
       "      <th>NR_LICITACAO</th>\n",
       "      <th>ANO_LICITACAO</th>\n",
       "      <th>CD_TIPO_MODALIDADE</th>\n",
       "      <th>VL_LICITACAO</th>\n",
       "      <th>DS_OBJETO</th>\n",
       "      <th>TP_OBJETO</th>\n",
       "      <th>NM_ORGAO</th>\n",
       "    </tr>\n",
       "  </thead>\n",
       "  <tbody>\n",
       "    <tr>\n",
       "      <th>0</th>\n",
       "      <td>3.0</td>\n",
       "      <td>2019</td>\n",
       "      <td>TMP</td>\n",
       "      <td>276405.12</td>\n",
       "      <td>CONTRATAÇÃO GLOBAL DE EMPRESA PARA CONSTRUÇÃO ...</td>\n",
       "      <td>CSE</td>\n",
       "      <td>PM DE NOVA PALMA</td>\n",
       "    </tr>\n",
       "    <tr>\n",
       "      <th>1</th>\n",
       "      <td>1.0</td>\n",
       "      <td>2019</td>\n",
       "      <td>TMP</td>\n",
       "      <td>75396.00</td>\n",
       "      <td>Reforma da UBS do Distrito da Vila Cruz, pintu...</td>\n",
       "      <td>OSE</td>\n",
       "      <td>PM DE NOVA PALMA</td>\n",
       "    </tr>\n",
       "    <tr>\n",
       "      <th>2</th>\n",
       "      <td>3.0</td>\n",
       "      <td>2019</td>\n",
       "      <td>EST</td>\n",
       "      <td>105612.48</td>\n",
       "      <td>Constitui objeto da presente Licitação a explo...</td>\n",
       "      <td>PER</td>\n",
       "      <td>CIA. ÁGUAS TERMAIS MARCELINO RAMOS - TERMASA</td>\n",
       "    </tr>\n",
       "    <tr>\n",
       "      <th>3</th>\n",
       "      <td>34.0</td>\n",
       "      <td>2019</td>\n",
       "      <td>CNV</td>\n",
       "      <td>10600.00</td>\n",
       "      <td>Contratação de serviços de arbitragem para atu...</td>\n",
       "      <td>OUS</td>\n",
       "      <td>PM DE ESPERANÇA DO SUL</td>\n",
       "    </tr>\n",
       "    <tr>\n",
       "      <th>4</th>\n",
       "      <td>3.0</td>\n",
       "      <td>2019</td>\n",
       "      <td>PRP</td>\n",
       "      <td>430770.00</td>\n",
       "      <td>Contratação de empresa para prestação de servi...</td>\n",
       "      <td>OUS</td>\n",
       "      <td>PM DE BOA VISTA DO SUL</td>\n",
       "    </tr>\n",
       "  </tbody>\n",
       "</table>\n",
       "</div>"
      ],
      "text/plain": [
       "   NR_LICITACAO  ANO_LICITACAO CD_TIPO_MODALIDADE  VL_LICITACAO  \\\n",
       "0           3.0           2019                TMP     276405.12   \n",
       "1           1.0           2019                TMP      75396.00   \n",
       "2           3.0           2019                EST     105612.48   \n",
       "3          34.0           2019                CNV      10600.00   \n",
       "4           3.0           2019                PRP     430770.00   \n",
       "\n",
       "                                           DS_OBJETO TP_OBJETO  \\\n",
       "0  CONTRATAÇÃO GLOBAL DE EMPRESA PARA CONSTRUÇÃO ...       CSE   \n",
       "1  Reforma da UBS do Distrito da Vila Cruz, pintu...       OSE   \n",
       "2  Constitui objeto da presente Licitação a explo...       PER   \n",
       "3  Contratação de serviços de arbitragem para atu...       OUS   \n",
       "4  Contratação de empresa para prestação de servi...       OUS   \n",
       "\n",
       "                                       NM_ORGAO  \n",
       "0                              PM DE NOVA PALMA  \n",
       "1                              PM DE NOVA PALMA  \n",
       "2  CIA. ÁGUAS TERMAIS MARCELINO RAMOS - TERMASA  \n",
       "3                        PM DE ESPERANÇA DO SUL  \n",
       "4                        PM DE BOA VISTA DO SUL  "
      ]
     },
     "execution_count": 5,
     "metadata": {},
     "output_type": "execute_result"
    }
   ],
   "source": [
    "# Avaliação das colunas relevantes (chaves vide manual)\n",
    "\"\"\"\n",
    "    NM_ORGAO: Nome do orgão\n",
    "    ANO_LICITACAO: Ano da licitação (outras referencias de data nas colunas DT_ABERTURA, DT_HOMOLOGACAO, DT_ADJUDICACAO)\n",
    "    VL_LICITACAO: Valor da licitação\n",
    "    DS_OBJETO: Descrição do objeto\n",
    "    TP_OBJETO: Tipo de objeto\n",
    "\"\"\"\n",
    "licitacao.loc[:,['NR_LICITACAO', 'ANO_LICITACAO', 'CD_TIPO_MODALIDADE', 'VL_LICITACAO', 'DS_OBJETO', 'TP_OBJETO', 'NM_ORGAO']].head()"
   ]
  },
  {
   "cell_type": "markdown",
   "metadata": {},
   "source": [
    "## Data Cleaning"
   ]
  },
  {
   "cell_type": "code",
   "execution_count": 6,
   "metadata": {},
   "outputs": [
    {
     "data": {
      "text/plain": [
       "(237011, 8)"
      ]
     },
     "execution_count": 6,
     "metadata": {},
     "output_type": "execute_result"
    }
   ],
   "source": [
    "# Tamanho da base licitacao.csv (linhas, colunas)\n",
    "licitacao.shape"
   ]
  },
  {
   "cell_type": "code",
   "execution_count": 7,
   "metadata": {},
   "outputs": [
    {
     "data": {
      "text/plain": [
       "NR_LICITACAO             0\n",
       "ANO_LICITACAO            0\n",
       "CD_TIPO_MODALIDADE       0\n",
       "VL_LICITACAO          9189\n",
       "DS_OBJETO                0\n",
       "TP_OBJETO                0\n",
       "NM_ORGAO                 0\n",
       "dtype: int64"
      ]
     },
     "execution_count": 7,
     "metadata": {},
     "output_type": "execute_result"
    }
   ],
   "source": [
    "# Identificando registros em branco/nulos nas colunas-chave definidas\n",
    "licitacao.loc[:,['NR_LICITACAO', 'ANO_LICITACAO', 'CD_TIPO_MODALIDADE', 'VL_LICITACAO', 'DS_OBJETO', 'TP_OBJETO', 'NM_ORGAO']].isnull().sum()"
   ]
  },
  {
   "cell_type": "markdown",
   "metadata": {},
   "source": [
    "    No manual são identificadas três chaves para o arquivo em questão (pag. 21), sendo elas:\n",
    "        - NR_LICITACAO\n",
    "        - ANO_LICITACAO\n",
    "        - CD_TIPO_MODALIDADE\n",
    "    No entanto, existem campos obrigatórios (ex.: VL_LICITACAO) que estão categorizados como obrigatórios (pag. 25) mas não foram preenchidos.\n",
    "    Nestes casos, os valores em branco serão desconsiderados das análises quantitativas.\n",
    "    A mesma tratativa foi aplicada aos dados com valor zerado (coluna VL_LICITACAO)."
   ]
  },
  {
   "cell_type": "code",
   "execution_count": 8,
   "metadata": {},
   "outputs": [
    {
     "data": {
      "text/plain": [
       "(227822, 8)"
      ]
     },
     "execution_count": 8,
     "metadata": {},
     "output_type": "execute_result"
    }
   ],
   "source": [
    "# Remoção de linhas NaN\n",
    "licitacao.dropna(subset = ['VL_LICITACAO'], inplace = True)\n",
    "licitacao.shape"
   ]
  },
  {
   "cell_type": "code",
   "execution_count": 9,
   "metadata": {},
   "outputs": [
    {
     "data": {
      "text/html": [
       "<div>\n",
       "<style scoped>\n",
       "    .dataframe tbody tr th:only-of-type {\n",
       "        vertical-align: middle;\n",
       "    }\n",
       "\n",
       "    .dataframe tbody tr th {\n",
       "        vertical-align: top;\n",
       "    }\n",
       "\n",
       "    .dataframe thead th {\n",
       "        text-align: right;\n",
       "    }\n",
       "</style>\n",
       "<table border=\"1\" class=\"dataframe\">\n",
       "  <thead>\n",
       "    <tr style=\"text-align: right;\">\n",
       "      <th></th>\n",
       "      <th>NM_ORGAO</th>\n",
       "      <th>VL_LICITACAO</th>\n",
       "    </tr>\n",
       "    <tr>\n",
       "      <th>DS_OBJETO</th>\n",
       "      <th></th>\n",
       "      <th></th>\n",
       "    </tr>\n",
       "  </thead>\n",
       "  <tbody>\n",
       "    <tr>\n",
       "      <th>Material</th>\n",
       "      <td>153</td>\n",
       "      <td>153</td>\n",
       "    </tr>\n",
       "    <tr>\n",
       "      <th>...</th>\n",
       "      <td>64</td>\n",
       "      <td>64</td>\n",
       "    </tr>\n",
       "    <tr>\n",
       "      <th>Contratacao de Servico</th>\n",
       "      <td>28</td>\n",
       "      <td>28</td>\n",
       "    </tr>\n",
       "    <tr>\n",
       "      <th>AQUISIÇÃO DE MEDICAMENTOS</th>\n",
       "      <td>19</td>\n",
       "      <td>19</td>\n",
       "    </tr>\n",
       "    <tr>\n",
       "      <th>AQUISIÇÃO DE MERENDA ESCOLAR</th>\n",
       "      <td>17</td>\n",
       "      <td>17</td>\n",
       "    </tr>\n",
       "    <tr>\n",
       "      <th>AQUISICAO</th>\n",
       "      <td>13</td>\n",
       "      <td>13</td>\n",
       "    </tr>\n",
       "    <tr>\n",
       "      <th>AQUISIÇÃO DE TUBOS DE CONCRETO</th>\n",
       "      <td>11</td>\n",
       "      <td>11</td>\n",
       "    </tr>\n",
       "    <tr>\n",
       "      <th>Material permanente</th>\n",
       "      <td>11</td>\n",
       "      <td>11</td>\n",
       "    </tr>\n",
       "    <tr>\n",
       "      <th>Aquisição de gêneros alimentícios para a merenda escolar.</th>\n",
       "      <td>9</td>\n",
       "      <td>9</td>\n",
       "    </tr>\n",
       "    <tr>\n",
       "      <th>CONTRATAÇÃO DE PALESTRANTE</th>\n",
       "      <td>9</td>\n",
       "      <td>9</td>\n",
       "    </tr>\n",
       "  </tbody>\n",
       "</table>\n",
       "</div>"
      ],
      "text/plain": [
       "                                                    NM_ORGAO  VL_LICITACAO\n",
       "DS_OBJETO                                                                 \n",
       "Material                                                 153           153\n",
       "...                                                       64            64\n",
       "Contratacao de Servico                                    28            28\n",
       "AQUISIÇÃO DE MEDICAMENTOS                                 19            19\n",
       "AQUISIÇÃO DE MERENDA ESCOLAR                              17            17\n",
       "AQUISICAO                                                 13            13\n",
       "AQUISIÇÃO DE TUBOS DE CONCRETO                            11            11\n",
       "Material permanente                                       11            11\n",
       "Aquisição de gêneros alimentícios para a merend...         9             9\n",
       "CONTRATAÇÃO DE PALESTRANTE                                 9             9"
      ]
     },
     "execution_count": 9,
     "metadata": {},
     "output_type": "execute_result"
    }
   ],
   "source": [
    "# Verificando registros de licitações com valor zero (VL_LICITACAO)\n",
    "gpby_zeros = licitacao.loc[licitacao['VL_LICITACAO'] == 0][['NM_ORGAO', 'DS_OBJETO', 'VL_LICITACAO']]\n",
    "gpby_zeros = gpby_zeros.groupby('DS_OBJETO').count().sort_values(by = 'VL_LICITACAO', ascending = False)\n",
    "gpby_zeros.head(10)"
   ]
  },
  {
   "cell_type": "markdown",
   "metadata": {},
   "source": [
    "        De acordo com a documentação fornecida, o campo 'VL_LICITACAO' é obrigatório, no entanto existem + 12 mil registros cujo valor atribuído foi igual a zero (majoritariamente contratações de empresas, aquisição de serviços/materiais ou descrições incompletas)."
   ]
  },
  {
   "cell_type": "code",
   "execution_count": 10,
   "metadata": {},
   "outputs": [
    {
     "data": {
      "text/plain": [
       "(215620, 8)"
      ]
     },
     "execution_count": 10,
     "metadata": {},
     "output_type": "execute_result"
    }
   ],
   "source": [
    "# Removendo registros de licitacoes com valor zero (VL_LICITACAO)\n",
    "licitacao.drop(licitacao.loc[licitacao['VL_LICITACAO'] == 0].index, inplace = True)\n",
    "licitacao.shape"
   ]
  },
  {
   "cell_type": "markdown",
   "metadata": {},
   "source": [
    "# Data Exploration"
   ]
  },
  {
   "cell_type": "markdown",
   "metadata": {},
   "source": [
    "## Quantidade de Registros por Tipo de Objeto"
   ]
  },
  {
   "cell_type": "code",
   "execution_count": 11,
   "metadata": {},
   "outputs": [
    {
     "data": {
      "image/png": "[encoded data removed]",
      "text/plain": [
       "<Figure size 960x640 with 1 Axes>"
      ]
     },
     "metadata": {
      "needs_background": "light"
     },
     "output_type": "display_data"
    }
   ],
   "source": [
    "# Identificando tipo de objeto com maior representatividade\n",
    "\n",
    "figure(figsize=(12, 8), dpi=80) # Alterar escala\n",
    "labels = licitacao['TP_OBJETO'].value_counts().index\n",
    "\n",
    "plt.bar(labels, licitacao['TP_OBJETO'].value_counts())\n",
    "plt.title('Quantidade de Registros por Tipo de Objeto', fontsize = 18)\n",
    "plt.xlabel('Tipo de objeto', fontsize = 16)\n",
    "plt.ylabel('Registros', fontsize = 16)\n",
    "plt.show()"
   ]
  },
  {
   "cell_type": "markdown",
   "metadata": {},
   "source": [
    "        No gráfico acima, fica evidente que a distribuição dos tipos de objetos licitatórios entre 2016-2019 têm maior representatividade entre os tipos OUS (Obras e Serviços de Engenharia), COM (Compras de materiais) e CSE (Compras e outros serviços), vide manual (pág. 28)."
   ]
  },
  {
   "cell_type": "code",
   "execution_count": 12,
   "metadata": {},
   "outputs": [
    {
     "data": {
      "image/png": "[encoded data removed]",
      "text/plain": [
       "<Figure size 960x640 with 1 Axes>"
      ]
     },
     "metadata": {
      "needs_background": "light"
     },
     "output_type": "display_data"
    }
   ],
   "source": [
    "# Identificando tipos de contratação com maior representatividade (Compras/COM)\n",
    "\n",
    "figure(figsize=(12, 8), dpi=80) # Alterar escala\n",
    "labels = licitacao['CD_TIPO_MODALIDADE'].value_counts().index\n",
    "\n",
    "plt.bar(labels, licitacao['CD_TIPO_MODALIDADE'].value_counts())\n",
    "plt.title('Quantidade de Registros por Forma de Contratação', fontsize = 18)\n",
    "plt.xlabel('Forma de contratação', fontsize = 16)\n",
    "plt.ylabel('Registros', fontsize = 16)\n",
    "plt.show()"
   ]
  },
  {
   "cell_type": "markdown",
   "metadata": {},
   "source": [
    "        Avaliando as formas de contratação com maior quantidade de licitações registradas no sistema. Esta informação será relevante na análise três, pois usaremos a forma de contratação PRD (processo de dispensa) como exemplo para análise no acompanhamento mensal em Analise_3_TCE-RS."
   ]
  },
  {
   "cell_type": "markdown",
   "metadata": {},
   "source": [
    "## Valor Total em Licitações por Categoria"
   ]
  },
  {
   "cell_type": "code",
   "execution_count": 13,
   "metadata": {},
   "outputs": [
    {
     "data": {
      "image/png": "[encoded data removed]",
      "text/plain": [
       "<Figure size 960x640 with 1 Axes>"
      ]
     },
     "metadata": {
      "needs_background": "light"
     },
     "output_type": "display_data"
    }
   ],
   "source": [
    "# Avaliando maiores gastos por categoria (TP_OBJETO)\n",
    "\"\"\"\n",
    "    Valores (pag. 28): ALB(Alienação de Bens), COM(Compras), CON(Concessão de Uso),\n",
    "    CSE(Compras e Outros Serviços), LOC(Locações), OSE(Obras e Serviços de\n",
    "    Engenharia), OUS(Outros Serviços), PER(Permissão), COL(Concessão Lei 8.987),\n",
    "    PPP(Parceria Público-Privada) e PRI(Privatização).\n",
    "\"\"\"\n",
    "\n",
    "figure(figsize=(12, 8), dpi=80) # Alterar escala\n",
    "labels_dict = {'ALB':'Alienação de Bens', 'COM':'Compras', 'CON':'Concessão de Uso', \\\n",
    "               'CSE':'Compras e Outros Serviços', 'LOC':'Locações', 'OSE':'Obras e Serviços de Engenharia', \\\n",
    "               'OUS':'Outros Serviços', 'PER':'Permissão', 'COL':'Concessão Lei 8.987', \\\n",
    "               'PPP':'Parceria Público-Privada', 'PRI':'Privatização'}\n",
    "\n",
    "# Preparando base para plot\n",
    "gpby_tp_objeto = licitacao.loc[:, ['TP_OBJETO', 'VL_LICITACAO']].groupby(['TP_OBJETO']).sum()\n",
    "gpby_tp_objeto.sort_values(by = ['VL_LICITACAO'], ascending = True, inplace = True)\n",
    "gpby_tp_objeto['TP_OBJETO_DESC'] = 0\n",
    "gpby_tp_objeto['TP_OBJETO_DESC'] = gpby_tp_objeto.index.map(labels_dict) # Mapear descrição a partir de um dicionario\n",
    "total = gpby_tp_objeto['VL_LICITACAO'].sum() # Calculando valor total\n",
    "gpby_tp_objeto['SHAREOF'] = round((gpby_tp_objeto['VL_LICITACAO'] / total) * 100, 2) # Shareof (fatia / total * 100)\n",
    "gpby_tp_objeto\n",
    "\n",
    "# Criando grafico de barras horizontais\n",
    "labels = gpby_tp_objeto.index\n",
    "plt.barh(labels, gpby_tp_objeto['VL_LICITACAO'])\n",
    "plt.title('Valor Total em Licitações por Categoria', fontsize = 18)\n",
    "for i, (p, pr) in enumerate(zip(gpby_tp_objeto['TP_OBJETO_DESC'], gpby_tp_objeto['SHAREOF'])): # Legendas com shareof\n",
    "    plt.text(s=p, x=1, y=i, color=\"k\", verticalalignment=\"center\",horizontalalignment=\"left\", size=12)\n",
    "    plt.text(s=str(pr)+\"%\", x=pr-5, y=i, color=\"k\",\n",
    "             verticalalignment=\"center\", horizontalalignment=\"right\", size=11)\n",
    "plt.axis(\"off\")\n",
    "plt.tight_layout()"
   ]
  },
  {
   "cell_type": "markdown",
   "metadata": {},
   "source": [
    "        Neste gráfico, trouxe uma visão complementar ao gráfico 'Quantidade de Registros por Tipo de Objeto', porém avaliando a representatividade dos valores totais das licitações por categoria, sendo que por mais que a distribuição no primeiro gráfico seja mais bem distribúida entre Obras e Compras, o valor acumulado das licitações é majoritariamente concentrado em Obras e Serviços de Engenharia (93.2%)."
   ]
  },
  {
   "cell_type": "markdown",
   "metadata": {},
   "source": [
    "## Distribuição de Valores de Licitação"
   ]
  },
  {
   "cell_type": "code",
   "execution_count": 14,
   "metadata": {},
   "outputs": [
    {
     "data": {
      "text/plain": [
       "Text(0.5, 1.0, 'Distribuição de Valores de Licitação')"
      ]
     },
     "execution_count": 14,
     "metadata": {},
     "output_type": "execute_result"
    },
    {
     "data": {
      "image/png": "[encoded data removed]",
      "text/plain": [
       "<Figure size 960x640 with 1 Axes>"
      ]
     },
     "metadata": {
      "needs_background": "light"
     },
     "output_type": "display_data"
    }
   ],
   "source": [
    "# Criando histograma com a coluna VL_LICITACAO\n",
    "\n",
    "figure(figsize=(12, 8), dpi=80) # Alterar escala\n",
    "\n",
    "plt.hist(licitacao['VL_LICITACAO'].loc[(licitacao['VL_LICITACAO']  < 100000)], bins = 100)\n",
    "plt.title('Distribuição de Valores de Licitação', fontsize = 18)"
   ]
  },
  {
   "cell_type": "markdown",
   "metadata": {},
   "source": [
    "        No gráfico acima, podemos concluir que a de distribuição dos pedidos de licitação está em valores menores (principalmente com dois picos nas faixas entre 0-1000R$ e 7000-8000R$), distribuído como um modelo despenhadeiro (a frequência é menor conforme os valores dos pedidos aumentam)."
   ]
  },
  {
   "cell_type": "markdown",
   "metadata": {},
   "source": [
    "## Top 10 Orgãos com Maiores Despesas em Licitações  "
   ]
  },
  {
   "cell_type": "code",
   "execution_count": 15,
   "metadata": {},
   "outputs": [
    {
     "data": {
      "text/html": [
       "<div>\n",
       "<style scoped>\n",
       "    .dataframe tbody tr th:only-of-type {\n",
       "        vertical-align: middle;\n",
       "    }\n",
       "\n",
       "    .dataframe tbody tr th {\n",
       "        vertical-align: top;\n",
       "    }\n",
       "\n",
       "    .dataframe thead th {\n",
       "        text-align: right;\n",
       "    }\n",
       "</style>\n",
       "<table border=\"1\" class=\"dataframe\">\n",
       "  <thead>\n",
       "    <tr style=\"text-align: right;\">\n",
       "      <th></th>\n",
       "      <th>NM_ORGAO</th>\n",
       "      <th>NR_LICITACAO</th>\n",
       "      <th>ANO_LICITACAO</th>\n",
       "      <th>CD_TIPO_MODALIDADE</th>\n",
       "      <th>TP_OBJETO</th>\n",
       "      <th>DS_OBJETO</th>\n",
       "      <th>VL_LICITACAO</th>\n",
       "      <th>DT_HOMOLOGACAO</th>\n",
       "    </tr>\n",
       "  </thead>\n",
       "  <tbody>\n",
       "    <tr>\n",
       "      <th>5</th>\n",
       "      <td>SERVIÇO AUTÔN. MUN. DE ÁGUA E ESGOTO - CX.SUL</td>\n",
       "      <td>79.0</td>\n",
       "      <td>2019</td>\n",
       "      <td>PRP</td>\n",
       "      <td>COM</td>\n",
       "      <td>Aquisição de 78.000 (setenta e oito mil) quilo...</td>\n",
       "      <td>406120.0</td>\n",
       "      <td>2019-11-05</td>\n",
       "    </tr>\n",
       "    <tr>\n",
       "      <th>6</th>\n",
       "      <td>SERVIÇO AUTÔN. MUN. DE ÁGUA E ESGOTO - CX.SUL</td>\n",
       "      <td>10.0</td>\n",
       "      <td>2019</td>\n",
       "      <td>PRP</td>\n",
       "      <td>COM</td>\n",
       "      <td>Aquisição de 3.700 kg de polímero não iônico, ...</td>\n",
       "      <td>92056.0</td>\n",
       "      <td>2019-02-26</td>\n",
       "    </tr>\n",
       "    <tr>\n",
       "      <th>7</th>\n",
       "      <td>SERVIÇO AUTÔN. MUN. DE ÁGUA E ESGOTO - CX.SUL</td>\n",
       "      <td>7.0</td>\n",
       "      <td>2019</td>\n",
       "      <td>PRP</td>\n",
       "      <td>COM</td>\n",
       "      <td>Aquisição de 65 t (sessenta e cindo toneladas)...</td>\n",
       "      <td>533000.0</td>\n",
       "      <td>2019-02-11</td>\n",
       "    </tr>\n",
       "    <tr>\n",
       "      <th>8</th>\n",
       "      <td>SERVIÇO AUTÔN. MUN. DE ÁGUA E ESGOTO - CX.SUL</td>\n",
       "      <td>38.0</td>\n",
       "      <td>2019</td>\n",
       "      <td>PRP</td>\n",
       "      <td>COM</td>\n",
       "      <td>Aquisição de 40.500 (quarenta mil e quinhentos...</td>\n",
       "      <td>359032.5</td>\n",
       "      <td>2019-06-06</td>\n",
       "    </tr>\n",
       "    <tr>\n",
       "      <th>9</th>\n",
       "      <td>SERVIÇO AUTÔN. MUN. DE ÁGUA E ESGOTO - CX.SUL</td>\n",
       "      <td>68.0</td>\n",
       "      <td>2019</td>\n",
       "      <td>PRP</td>\n",
       "      <td>COM</td>\n",
       "      <td>Aquisição de Larvicida biológico BTI (Bacillus...</td>\n",
       "      <td>443133.2</td>\n",
       "      <td>2019-10-09</td>\n",
       "    </tr>\n",
       "  </tbody>\n",
       "</table>\n",
       "</div>"
      ],
      "text/plain": [
       "                                        NM_ORGAO  NR_LICITACAO  ANO_LICITACAO  \\\n",
       "5  SERVIÇO AUTÔN. MUN. DE ÁGUA E ESGOTO - CX.SUL          79.0           2019   \n",
       "6  SERVIÇO AUTÔN. MUN. DE ÁGUA E ESGOTO - CX.SUL          10.0           2019   \n",
       "7  SERVIÇO AUTÔN. MUN. DE ÁGUA E ESGOTO - CX.SUL           7.0           2019   \n",
       "8  SERVIÇO AUTÔN. MUN. DE ÁGUA E ESGOTO - CX.SUL          38.0           2019   \n",
       "9  SERVIÇO AUTÔN. MUN. DE ÁGUA E ESGOTO - CX.SUL          68.0           2019   \n",
       "\n",
       "  CD_TIPO_MODALIDADE TP_OBJETO  \\\n",
       "5                PRP       COM   \n",
       "6                PRP       COM   \n",
       "7                PRP       COM   \n",
       "8                PRP       COM   \n",
       "9                PRP       COM   \n",
       "\n",
       "                                           DS_OBJETO  VL_LICITACAO  \\\n",
       "5  Aquisição de 78.000 (setenta e oito mil) quilo...      406120.0   \n",
       "6  Aquisição de 3.700 kg de polímero não iônico, ...       92056.0   \n",
       "7  Aquisição de 65 t (sessenta e cindo toneladas)...      533000.0   \n",
       "8  Aquisição de 40.500 (quarenta mil e quinhentos...      359032.5   \n",
       "9  Aquisição de Larvicida biológico BTI (Bacillus...      443133.2   \n",
       "\n",
       "  DT_HOMOLOGACAO  \n",
       "5     2019-11-05  \n",
       "6     2019-02-26  \n",
       "7     2019-02-11  \n",
       "8     2019-06-06  \n",
       "9     2019-10-09  "
      ]
     },
     "execution_count": 15,
     "metadata": {},
     "output_type": "execute_result"
    }
   ],
   "source": [
    "# Selecão de amostragem com apenas licitações categorizadas como Compras/COM\n",
    "licitacao_sample = licitacao.loc[licitacao['TP_OBJETO'] == 'COM']\n",
    "licitacao_sample.head()"
   ]
  },
  {
   "cell_type": "code",
   "execution_count": 16,
   "metadata": {},
   "outputs": [
    {
     "name": "stdout",
     "output_type": "stream",
     "text": [
      "Os dez orgãos com maior representatividade em licitacões compõem  77.74% do valor total das licitacões registradas.\n"
     ]
    },
    {
     "data": {
      "text/html": [
       "<div>\n",
       "<style scoped>\n",
       "    .dataframe tbody tr th:only-of-type {\n",
       "        vertical-align: middle;\n",
       "    }\n",
       "\n",
       "    .dataframe tbody tr th {\n",
       "        vertical-align: top;\n",
       "    }\n",
       "\n",
       "    .dataframe thead th {\n",
       "        text-align: right;\n",
       "    }\n",
       "</style>\n",
       "<table border=\"1\" class=\"dataframe\">\n",
       "  <thead>\n",
       "    <tr style=\"text-align: right;\">\n",
       "      <th></th>\n",
       "      <th>VL_LICITACAO</th>\n",
       "      <th>QUANTIDADE</th>\n",
       "      <th>SHAREOF</th>\n",
       "    </tr>\n",
       "    <tr>\n",
       "      <th>NM_ORGAO</th>\n",
       "      <th></th>\n",
       "      <th></th>\n",
       "      <th></th>\n",
       "    </tr>\n",
       "  </thead>\n",
       "  <tbody>\n",
       "    <tr>\n",
       "      <th>PM DE PASSO DO SOBRADO</th>\n",
       "      <td>46022067187.01</td>\n",
       "      <td>31</td>\n",
       "      <td>48.22</td>\n",
       "    </tr>\n",
       "    <tr>\n",
       "      <th>PM DE SANTA MARGARIDA DO SUL</th>\n",
       "      <td>15806172103.88</td>\n",
       "      <td>161</td>\n",
       "      <td>16.56</td>\n",
       "    </tr>\n",
       "    <tr>\n",
       "      <th>CONS. PÚBL. DA ASSOC. DOS MUNIC. DA REGIÃO METR. DE POA - CP GRANPAL</th>\n",
       "      <td>7024258640.87</td>\n",
       "      <td>13</td>\n",
       "      <td>7.36</td>\n",
       "    </tr>\n",
       "    <tr>\n",
       "      <th>CONS. PÚBL. DO EXTREMO SUL</th>\n",
       "      <td>3499853024.92</td>\n",
       "      <td>25</td>\n",
       "      <td>3.67</td>\n",
       "    </tr>\n",
       "    <tr>\n",
       "      <th>PM DE ITATI</th>\n",
       "      <td>1841024793.29</td>\n",
       "      <td>273</td>\n",
       "      <td>1.93</td>\n",
       "    </tr>\n",
       "  </tbody>\n",
       "</table>\n",
       "</div>"
      ],
      "text/plain": [
       "                                                     VL_LICITACAO  QUANTIDADE  \\\n",
       "NM_ORGAO                                                                        \n",
       "PM DE PASSO DO SOBRADO                             46022067187.01          31   \n",
       "PM DE SANTA MARGARIDA DO SUL                       15806172103.88         161   \n",
       "CONS. PÚBL. DA ASSOC. DOS MUNIC. DA REGIÃO METR...  7024258640.87          13   \n",
       "CONS. PÚBL. DO EXTREMO SUL                          3499853024.92          25   \n",
       "PM DE ITATI                                         1841024793.29         273   \n",
       "\n",
       "                                                    SHAREOF  \n",
       "NM_ORGAO                                                     \n",
       "PM DE PASSO DO SOBRADO                                48.22  \n",
       "PM DE SANTA MARGARIDA DO SUL                          16.56  \n",
       "CONS. PÚBL. DA ASSOC. DOS MUNIC. DA REGIÃO METR...     7.36  \n",
       "CONS. PÚBL. DO EXTREMO SUL                             3.67  \n",
       "PM DE ITATI                                            1.93  "
      ]
     },
     "execution_count": 16,
     "metadata": {},
     "output_type": "execute_result"
    }
   ],
   "source": [
    "# Avaliando top 5 orgãos com maiores despesas em licitações\n",
    "\"\"\"\n",
    "    Avaliar quantidade de licitações:\n",
    "        1. Agrupado por orgão;\n",
    "        2. Ordenado por valor total acumulado e quantidade de licitações.\n",
    "\"\"\"\n",
    "gpby_nm_orgao = licitacao_sample.loc[:, ['NM_ORGAO', 'VL_LICITACAO']].groupby(['NM_ORGAO']).sum()\n",
    "gpby_nm_orgao['QUANTIDADE'] = licitacao_sample.loc[:, ['NM_ORGAO', 'VL_LICITACAO']].groupby(['NM_ORGAO']).count()\n",
    "gpby_nm_orgao.sort_values(by = ['VL_LICITACAO', 'QUANTIDADE'], inplace = True, ascending = False)\n",
    "pd.set_option('display.float_format', lambda x: '%.2f' % x) # Remover notação científica do DataFrame\n",
    "total = gpby_nm_orgao['VL_LICITACAO'].sum() \n",
    "gpby_nm_orgao['SHAREOF'] = round((gpby_nm_orgao['VL_LICITACAO'] / total) * 100, 2) # Shareof (fatia / total * 100)\n",
    "\n",
    "gpby_nm_orgao = gpby_nm_orgao[:5]\n",
    "print('Os dez orgãos com maior representatividade em licitacões compõem ', str(round(gpby_nm_orgao['SHAREOF'].sum(),2)) + '%', 'do valor total das licitacões registradas.')\n",
    "gpby_nm_orgao"
   ]
  },
  {
   "cell_type": "markdown",
   "metadata": {},
   "source": [
    "## Scatter Plot + Histogramas de Distribuição Consolidados"
   ]
  },
  {
   "cell_type": "code",
   "execution_count": 17,
   "metadata": {},
   "outputs": [
    {
     "data": {
      "image/png": "[encoded data removed]",
      "text/plain": [
       "<Figure size 640x640 with 3 Axes>"
      ]
     },
     "metadata": {
      "needs_background": "light"
     },
     "output_type": "display_data"
    }
   ],
   "source": [
    "# Criando scatter plot com volumetria (outliers definidos com valores acima de 70 mil)\n",
    "\n",
    "figure(figsize=(8, 8), dpi=80) # Alterar escala\n",
    "\n",
    "# Eixos\n",
    "left, width = 0.1, 0.65\n",
    "bottom, height = 0.1, 0.65\n",
    "binwidth = 0.25\n",
    "spacing = 0.005\n",
    "binwidth = 0.25\n",
    "\n",
    "x = gpby_nm_orgao['VL_LICITACAO']\n",
    "y = gpby_nm_orgao['QUANTIDADE']\n",
    "\n",
    "rect_scatter = [left, bottom, width, height]\n",
    "rect_histx = [left, bottom + height + spacing, width, 0.2]\n",
    "rect_histy = [left + width + spacing, bottom, 0.2, height]\n",
    "\n",
    "ax_scatter = plt.axes(rect_scatter)\n",
    "ax_scatter.tick_params(direction='in', top=True, right=True)\n",
    "ax_histx = plt.axes(rect_histx)\n",
    "ax_histx.tick_params(direction='in', labelbottom=False)\n",
    "ax_histy = plt.axes(rect_histy)\n",
    "ax_histy.tick_params(direction='in', labelleft=False)\n",
    "\n",
    "ax_scatter.scatter(gpby_nm_orgao['VL_LICITACAO'], gpby_nm_orgao['QUANTIDADE'], s = (gpby_nm_orgao['VL_LICITACAO']) * 0.0000001)\n",
    "\n",
    "\n",
    "lim = np.ceil(np.abs([x, y]).max() / binwidth) * binwidth\n",
    "\n",
    "bins = 10\n",
    "ax_histx.hist(x, bins = bins)\n",
    "ax_histy.hist(y, bins = bins, orientation = 'horizontal')\n",
    "\n",
    "ax_histx.set_xlim(ax_scatter.get_xlim())\n",
    "ax_histy.set_ylim(ax_scatter.get_ylim())\n",
    "\n",
    "plt.show()"
   ]
  },
  {
   "cell_type": "markdown",
   "metadata": {},
   "source": [
    "        No gráfico em questão, fica evidente que existem poucos pedidos com maior concentração de valor (outliers, canto inferior direito) e muitas licitações com valores baixos (canto superior esquerdo). Os histogramas conjugados são apoio para a análise em questão, mostrando comportamentos isolados."
   ]
  },
  {
   "cell_type": "markdown",
   "metadata": {},
   "source": [
    "## Análise Multivariável"
   ]
  },
  {
   "cell_type": "code",
   "execution_count": 18,
   "metadata": {},
   "outputs": [
    {
     "data": {
      "text/plain": [
       "array([[<AxesSubplot:xlabel='VL_LICITACAO', ylabel='VL_LICITACAO'>,\n",
       "        <AxesSubplot:xlabel='QUANTIDADE', ylabel='VL_LICITACAO'>,\n",
       "        <AxesSubplot:xlabel='SHAREOF', ylabel='VL_LICITACAO'>],\n",
       "       [<AxesSubplot:xlabel='VL_LICITACAO', ylabel='QUANTIDADE'>,\n",
       "        <AxesSubplot:xlabel='QUANTIDADE', ylabel='QUANTIDADE'>,\n",
       "        <AxesSubplot:xlabel='SHAREOF', ylabel='QUANTIDADE'>],\n",
       "       [<AxesSubplot:xlabel='VL_LICITACAO', ylabel='SHAREOF'>,\n",
       "        <AxesSubplot:xlabel='QUANTIDADE', ylabel='SHAREOF'>,\n",
       "        <AxesSubplot:xlabel='SHAREOF', ylabel='SHAREOF'>]], dtype=object)"
      ]
     },
     "execution_count": 18,
     "metadata": {},
     "output_type": "execute_result"
    },
    {
     "data": {
      "image/png": "[encoded data removed]",
      "text/plain": [
       "<Figure size 1152x864 with 9 Axes>"
      ]
     },
     "metadata": {
      "needs_background": "light"
     },
     "output_type": "display_data"
    }
   ],
   "source": [
    "# Visualizacao alternativa para analise de multi-variaveis (valores totais de licitacao, quantidade de pedidos e shareof)\n",
    "# Selecão de amostragem com apenas licitações categorizadas como Compras/COM\n",
    "# licitacao_sample = licitacao_sample.loc[licitacao_sample['VL_LICITACAO'] <= 100000]\n",
    "\n",
    "gpby_modalidade = licitacao_sample.loc[:, ['CD_TIPO_MODALIDADE', 'VL_LICITACAO']].groupby(['CD_TIPO_MODALIDADE']).sum()\n",
    "gpby_modalidade['QUANTIDADE'] = licitacao_sample.loc[:, ['CD_TIPO_MODALIDADE', 'VL_LICITACAO']].groupby(['CD_TIPO_MODALIDADE']).count()\n",
    "gpby_modalidade.sort_values(by = ['VL_LICITACAO', 'QUANTIDADE'], inplace = True, ascending = False)\n",
    "total = gpby_modalidade['VL_LICITACAO'].sum() \n",
    "gpby_modalidade['SHAREOF'] = round((gpby_modalidade['VL_LICITACAO'] / total) * 100, 2) # Shareof (fatia / total * 100)\n",
    "gpby_modalidade\n",
    "\n",
    "pd.plotting.scatter_matrix(gpby_modalidade[gpby_modalidade.columns.tolist()], figsize=(16,12))"
   ]
  },
  {
   "cell_type": "markdown",
   "metadata": {},
   "source": [
    "        Por fim, foi feita uma análise apêndice entre multi-variáveis para identificar possíveis outliers entre as variáveis de quantidade, valor de licitação e Shareof, mostrando que todas possuem um comportamento similar nos histogramas com evidências de outliers."
   ]
  },
  {
   "cell_type": "markdown",
   "metadata": {},
   "source": [
    "### Fim"
   ]
  }
 ],
 "metadata": {
  "kernelspec": {
   "display_name": "Python 3",
   "language": "python",
   "name": "python3"
  },
  "language_info": {
   "codemirror_mode": {
    "name": "ipython",
    "version": 3
   },
   "file_extension": ".py",
   "mimetype": "text/x-python",
   "name": "python",
   "nbconvert_exporter": "python",
   "pygments_lexer": "ipython3",
   "version": "3.8.5"
  }
 },
 "nbformat": 4,
 "nbformat_minor": 4
}
